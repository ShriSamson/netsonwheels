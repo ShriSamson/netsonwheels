{
 "cells": [
  {
   "cell_type": "markdown",
   "metadata": {},
   "source": [
    "Download review data from https://www.yelp.com/dataset_challenge/dataset"
   ]
  },
  {
   "cell_type": "code",
   "execution_count": 1,
   "metadata": {
    "collapsed": false
   },
   "outputs": [],
   "source": [
    "import graphlab as gl"
   ]
  },
  {
   "cell_type": "code",
   "execution_count": 5,
   "metadata": {
    "collapsed": false
   },
   "outputs": [],
   "source": [
    "import pandas as pd\n",
    "import re\n",
    "import json\n",
    "\n",
    "def yelp2df(filename):\n",
    "    with open(filename, 'r') as f:\n",
    "        reviews = f.readlines()\n",
    "\n",
    "    reviews_json=[json.loads(review) for review in reviews]\n",
    "    df = pd.DataFrame(reviews_json)\n",
    "\n",
    "    return df"
   ]
  },
  {
   "cell_type": "code",
   "execution_count": 9,
   "metadata": {
    "collapsed": false
   },
   "outputs": [],
   "source": [
    "DATA_PATH=\"/Volumes/Media2/Datasets/yelp_dataset_challenge_round9/Reviews-Split/xaa\""
   ]
  },
  {
   "cell_type": "code",
   "execution_count": 10,
   "metadata": {
    "collapsed": false
   },
   "outputs": [],
   "source": [
    "#df_business = yelp2df(\"/Users/gazelle/xaa\")\n",
    "df_reviews = yelp2df(DATA_PATH)"
   ]
  },
  {
   "cell_type": "code",
   "execution_count": 17,
   "metadata": {
    "collapsed": true
   },
   "outputs": [
    {
     "data": {
      "text/html": [
       "<div>\n",
       "<table border=\"1\" class=\"dataframe\">\n",
       "  <thead>\n",
       "    <tr style=\"text-align: right;\">\n",
       "      <th></th>\n",
       "      <th>business_id</th>\n",
       "      <th>cool</th>\n",
       "      <th>date</th>\n",
       "      <th>funny</th>\n",
       "      <th>review_id</th>\n",
       "      <th>stars</th>\n",
       "      <th>text</th>\n",
       "      <th>type</th>\n",
       "      <th>useful</th>\n",
       "      <th>user_id</th>\n",
       "    </tr>\n",
       "  </thead>\n",
       "  <tbody>\n",
       "    <tr>\n",
       "      <th>0</th>\n",
       "      <td>2aFiy99vNLklCx3T_tGS9A</td>\n",
       "      <td>0</td>\n",
       "      <td>2011-10-10</td>\n",
       "      <td>0</td>\n",
       "      <td>NxL8SIC5yqOdnlXCg18IBg</td>\n",
       "      <td>5</td>\n",
       "      <td>If you enjoy service by someone who is as comp...</td>\n",
       "      <td>review</td>\n",
       "      <td>0</td>\n",
       "      <td>KpkOkG6RIf4Ra25Lhhxf1A</td>\n",
       "    </tr>\n",
       "    <tr>\n",
       "      <th>1</th>\n",
       "      <td>2aFiy99vNLklCx3T_tGS9A</td>\n",
       "      <td>0</td>\n",
       "      <td>2010-12-29</td>\n",
       "      <td>0</td>\n",
       "      <td>pXbbIgOXvLuTi_SPs1hQEQ</td>\n",
       "      <td>5</td>\n",
       "      <td>After being on the phone with Verizon Wireless...</td>\n",
       "      <td>review</td>\n",
       "      <td>1</td>\n",
       "      <td>bQ7fQq1otn9hKX-gXRsrgA</td>\n",
       "    </tr>\n",
       "    <tr>\n",
       "      <th>2</th>\n",
       "      <td>2aFiy99vNLklCx3T_tGS9A</td>\n",
       "      <td>0</td>\n",
       "      <td>2011-04-29</td>\n",
       "      <td>0</td>\n",
       "      <td>wslW2Lu4NYylb1jEapAGsw</td>\n",
       "      <td>5</td>\n",
       "      <td>Great service! Corey is very service oriented....</td>\n",
       "      <td>review</td>\n",
       "      <td>0</td>\n",
       "      <td>r1NUhdNmL6yU9Bn-Yx6FTw</td>\n",
       "    </tr>\n",
       "    <tr>\n",
       "      <th>3</th>\n",
       "      <td>2LfIuF3_sX6uwe-IR-P0jQ</td>\n",
       "      <td>1</td>\n",
       "      <td>2014-07-14</td>\n",
       "      <td>0</td>\n",
       "      <td>GP6YEearUWrzPtQYSF1vVg</td>\n",
       "      <td>5</td>\n",
       "      <td>Highly recommended. Went in yesterday looking ...</td>\n",
       "      <td>review</td>\n",
       "      <td>0</td>\n",
       "      <td>aW3ix1KNZAvoM8q-WghA3Q</td>\n",
       "    </tr>\n",
       "    <tr>\n",
       "      <th>4</th>\n",
       "      <td>2LfIuF3_sX6uwe-IR-P0jQ</td>\n",
       "      <td>0</td>\n",
       "      <td>2014-01-15</td>\n",
       "      <td>0</td>\n",
       "      <td>25RlYGq2s5qShi-pn3ufVA</td>\n",
       "      <td>4</td>\n",
       "      <td>I walked in here looking for a specific piece ...</td>\n",
       "      <td>review</td>\n",
       "      <td>0</td>\n",
       "      <td>YOo-Cip8HqvKp_p9nEGphw</td>\n",
       "    </tr>\n",
       "  </tbody>\n",
       "</table>\n",
       "</div>"
      ],
      "text/plain": [
       "              business_id  cool        date  funny               review_id  \\\n",
       "0  2aFiy99vNLklCx3T_tGS9A     0  2011-10-10      0  NxL8SIC5yqOdnlXCg18IBg   \n",
       "1  2aFiy99vNLklCx3T_tGS9A     0  2010-12-29      0  pXbbIgOXvLuTi_SPs1hQEQ   \n",
       "2  2aFiy99vNLklCx3T_tGS9A     0  2011-04-29      0  wslW2Lu4NYylb1jEapAGsw   \n",
       "3  2LfIuF3_sX6uwe-IR-P0jQ     1  2014-07-14      0  GP6YEearUWrzPtQYSF1vVg   \n",
       "4  2LfIuF3_sX6uwe-IR-P0jQ     0  2014-01-15      0  25RlYGq2s5qShi-pn3ufVA   \n",
       "\n",
       "   stars                                               text    type  useful  \\\n",
       "0      5  If you enjoy service by someone who is as comp...  review       0   \n",
       "1      5  After being on the phone with Verizon Wireless...  review       1   \n",
       "2      5  Great service! Corey is very service oriented....  review       0   \n",
       "3      5  Highly recommended. Went in yesterday looking ...  review       0   \n",
       "4      4  I walked in here looking for a specific piece ...  review       0   \n",
       "\n",
       "                  user_id  \n",
       "0  KpkOkG6RIf4Ra25Lhhxf1A  \n",
       "1  bQ7fQq1otn9hKX-gXRsrgA  \n",
       "2  r1NUhdNmL6yU9Bn-Yx6FTw  \n",
       "3  aW3ix1KNZAvoM8q-WghA3Q  \n",
       "4  YOo-Cip8HqvKp_p9nEGphw  "
      ]
     },
     "execution_count": 17,
     "metadata": {},
     "output_type": "execute_result"
    }
   ],
   "source": [
    "df_reviews.head()"
   ]
  },
  {
   "cell_type": "code",
   "execution_count": 11,
   "metadata": {
    "collapsed": true
   },
   "outputs": [],
   "source": [
    "gl_sframe = gl.SFrame(df_reviews)"
   ]
  },
  {
   "cell_type": "code",
   "execution_count": 16,
   "metadata": {
    "collapsed": true
   },
   "outputs": [
    {
     "data": {
      "text/html": [
       "<pre>Recsys training: model = item_similarity</pre>"
      ],
      "text/plain": [
       "Recsys training: model = item_similarity"
      ]
     },
     "metadata": {},
     "output_type": "display_data"
    },
    {
     "data": {
      "text/html": [
       "<pre>Warning: Ignoring columns cool, date, funny, review_id, text, type, useful;</pre>"
      ],
      "text/plain": [
       "Warning: Ignoring columns cool, date, funny, review_id, text, type, useful;"
      ]
     },
     "metadata": {},
     "output_type": "display_data"
    },
    {
     "data": {
      "text/html": [
       "<pre>    To use these columns in scoring predictions, use a model that allows the use of additional features.</pre>"
      ],
      "text/plain": [
       "    To use these columns in scoring predictions, use a model that allows the use of additional features."
      ]
     },
     "metadata": {},
     "output_type": "display_data"
    },
    {
     "data": {
      "text/html": [
       "<pre>Preparing data set.</pre>"
      ],
      "text/plain": [
       "Preparing data set."
      ]
     },
     "metadata": {},
     "output_type": "display_data"
    },
    {
     "data": {
      "text/html": [
       "<pre>    Data has 200000 observations with 116127 users and 25901 items.</pre>"
      ],
      "text/plain": [
       "    Data has 200000 observations with 116127 users and 25901 items."
      ]
     },
     "metadata": {},
     "output_type": "display_data"
    },
    {
     "data": {
      "text/html": [
       "<pre>    Data prepared in: 1.66432s</pre>"
      ],
      "text/plain": [
       "    Data prepared in: 1.66432s"
      ]
     },
     "metadata": {},
     "output_type": "display_data"
    },
    {
     "data": {
      "text/html": [
       "<pre>Training model from provided data.</pre>"
      ],
      "text/plain": [
       "Training model from provided data."
      ]
     },
     "metadata": {},
     "output_type": "display_data"
    },
    {
     "data": {
      "text/html": [
       "<pre>Gathering per-item and per-user statistics.</pre>"
      ],
      "text/plain": [
       "Gathering per-item and per-user statistics."
      ]
     },
     "metadata": {},
     "output_type": "display_data"
    },
    {
     "data": {
      "text/html": [
       "<pre>+--------------------------------+------------+</pre>"
      ],
      "text/plain": [
       "+--------------------------------+------------+"
      ]
     },
     "metadata": {},
     "output_type": "display_data"
    },
    {
     "data": {
      "text/html": [
       "<pre>| Elapsed Time (Item Statistics) | % Complete |</pre>"
      ],
      "text/plain": [
       "| Elapsed Time (Item Statistics) | % Complete |"
      ]
     },
     "metadata": {},
     "output_type": "display_data"
    },
    {
     "data": {
      "text/html": [
       "<pre>+--------------------------------+------------+</pre>"
      ],
      "text/plain": [
       "+--------------------------------+------------+"
      ]
     },
     "metadata": {},
     "output_type": "display_data"
    },
    {
     "data": {
      "text/html": [
       "<pre>| 64.351ms                       | 0.75       |</pre>"
      ],
      "text/plain": [
       "| 64.351ms                       | 0.75       |"
      ]
     },
     "metadata": {},
     "output_type": "display_data"
    },
    {
     "data": {
      "text/html": [
       "<pre>| 172.823ms                      | 100        |</pre>"
      ],
      "text/plain": [
       "| 172.823ms                      | 100        |"
      ]
     },
     "metadata": {},
     "output_type": "display_data"
    },
    {
     "data": {
      "text/html": [
       "<pre>+--------------------------------+------------+</pre>"
      ],
      "text/plain": [
       "+--------------------------------+------------+"
      ]
     },
     "metadata": {},
     "output_type": "display_data"
    },
    {
     "data": {
      "text/html": [
       "<pre>Setting up lookup tables.</pre>"
      ],
      "text/plain": [
       "Setting up lookup tables."
      ]
     },
     "metadata": {},
     "output_type": "display_data"
    },
    {
     "data": {
      "text/html": [
       "<pre>Processing data in one pass using dense lookup tables.</pre>"
      ],
      "text/plain": [
       "Processing data in one pass using dense lookup tables."
      ]
     },
     "metadata": {},
     "output_type": "display_data"
    },
    {
     "data": {
      "text/html": [
       "<pre>+-------------------------------------+------------------+-----------------+</pre>"
      ],
      "text/plain": [
       "+-------------------------------------+------------------+-----------------+"
      ]
     },
     "metadata": {},
     "output_type": "display_data"
    },
    {
     "data": {
      "text/html": [
       "<pre>| Elapsed Time (Constructing Lookups) | Total % Complete | Items Processed |</pre>"
      ],
      "text/plain": [
       "| Elapsed Time (Constructing Lookups) | Total % Complete | Items Processed |"
      ]
     },
     "metadata": {},
     "output_type": "display_data"
    },
    {
     "data": {
      "text/html": [
       "<pre>+-------------------------------------+------------------+-----------------+</pre>"
      ],
      "text/plain": [
       "+-------------------------------------+------------------+-----------------+"
      ]
     },
     "metadata": {},
     "output_type": "display_data"
    },
    {
     "data": {
      "text/html": [
       "<pre>| 4.24s                               | 0                | 0               |</pre>"
      ],
      "text/plain": [
       "| 4.24s                               | 0                | 0               |"
      ]
     },
     "metadata": {},
     "output_type": "display_data"
    },
    {
     "data": {
      "text/html": [
       "<pre>| 35.64s                              | 100              | 25901           |</pre>"
      ],
      "text/plain": [
       "| 35.64s                              | 100              | 25901           |"
      ]
     },
     "metadata": {},
     "output_type": "display_data"
    },
    {
     "data": {
      "text/html": [
       "<pre>+-------------------------------------+------------------+-----------------+</pre>"
      ],
      "text/plain": [
       "+-------------------------------------+------------------+-----------------+"
      ]
     },
     "metadata": {},
     "output_type": "display_data"
    },
    {
     "data": {
      "text/html": [
       "<pre>Finalizing lookup tables.</pre>"
      ],
      "text/plain": [
       "Finalizing lookup tables."
      ]
     },
     "metadata": {},
     "output_type": "display_data"
    },
    {
     "data": {
      "text/html": [
       "<pre>Generating candidate set for working with new users.</pre>"
      ],
      "text/plain": [
       "Generating candidate set for working with new users."
      ]
     },
     "metadata": {},
     "output_type": "display_data"
    },
    {
     "data": {
      "text/html": [
       "<pre>Finished training in 35.8155s</pre>"
      ],
      "text/plain": [
       "Finished training in 35.8155s"
      ]
     },
     "metadata": {},
     "output_type": "display_data"
    }
   ],
   "source": [
    "model_rec = gl.recommender.item_similarity_recommender.create(gl_sframe, \n",
    "                                                        user_id='user_id',\n",
    "                                                        item_id='business_id',\n",
    "                                                        target='stars',\n",
    "                                                        user_data=None,\n",
    "                                                        item_data=None,\n",
    "                                                        nearest_items=None,\n",
    "                                                        similarity_type='pearson',\n",
    "                                                        threshold=0.001,\n",
    "                                                        only_top_k=64,\n",
    "                                                        verbose=True,\n",
    "                                                        target_memory_usage=8589934592)"
   ]
  },
  {
   "cell_type": "code",
   "execution_count": 15,
   "metadata": {
    "collapsed": true
   },
   "outputs": [
    {
     "name": "stderr",
     "output_type": "stream",
     "text": [
      "[INFO] graphlab.deploy.job: Validating job.\n",
      "[INFO] graphlab.deploy.job: Creating a LocalAsync environment called 'async'.\n",
      "[INFO] graphlab.deploy.map_job: Validation complete. Job: 'Cross-Validation-Apr-23-2017-12-26-07-030824--6299041' ready for execution\n",
      "[INFO] graphlab.deploy.map_job: Job: 'Cross-Validation-Apr-23-2017-12-26-07-030824--6299041' scheduled.\n",
      "[INFO] graphlab.deploy._job: Waiting for job to finish, this may take quite a while.\n",
      "[INFO] graphlab.deploy._job: You may CTRL-C to stop this command and it will not cancel your job.\n"
     ]
    },
    {
     "name": "stdout",
     "output_type": "stream",
     "text": [
      "OrderedDict([('models', [Class                            : ItemSimilarityRecommender\n",
      "\n",
      "Schema\n",
      "------\n",
      "User ID                          : user_id\n",
      "Item ID                          : business_id\n",
      "Target                           : stars\n",
      "Additional observation features  : 0\n",
      "User side features               : []\n",
      "Item side features               : []\n",
      "\n",
      "Statistics\n",
      "----------\n",
      "Number of observations           : 160000\n",
      "Number of users                  : 98387\n",
      "Number of items                  : 20205\n",
      "\n",
      "Training summary\n",
      "----------------\n",
      "Training time                    : 22.592\n",
      "\n",
      "Model Parameters\n",
      "----------------\n",
      "Model class                      : ItemSimilarityRecommender\n",
      "threshold                        : 0.001\n",
      "similarity_type                  : pearson\n",
      "training_method                  : auto\n",
      "\n",
      "Other Settings\n",
      "--------------\n",
      "degree_approximation_threshold   : 4096\n",
      "sparse_density_estimation_sample_size : 4096\n",
      "max_data_passes                  : 4096\n",
      "target_memory_usage              : 8589934592\n",
      "seed_item_set_size               : 50\n",
      "nearest_neighbors_interaction_proportion_threshold : 0.05\n",
      "max_item_neighborhood_size       : 64\n",
      ", Class                            : ItemSimilarityRecommender\n",
      "\n",
      "Schema\n",
      "------\n",
      "User ID                          : user_id\n",
      "Item ID                          : business_id\n",
      "Target                           : stars\n",
      "Additional observation features  : 0\n",
      "User side features               : []\n",
      "Item side features               : []\n",
      "\n",
      "Statistics\n",
      "----------\n",
      "Number of observations           : 160000\n",
      "Number of users                  : 98524\n",
      "Number of items                  : 20250\n",
      "\n",
      "Training summary\n",
      "----------------\n",
      "Training time                    : 19.4248\n",
      "\n",
      "Model Parameters\n",
      "----------------\n",
      "Model class                      : ItemSimilarityRecommender\n",
      "threshold                        : 0.001\n",
      "similarity_type                  : pearson\n",
      "training_method                  : auto\n",
      "\n",
      "Other Settings\n",
      "--------------\n",
      "degree_approximation_threshold   : 4096\n",
      "sparse_density_estimation_sample_size : 4096\n",
      "max_data_passes                  : 4096\n",
      "target_memory_usage              : 8589934592\n",
      "seed_item_set_size               : 50\n",
      "nearest_neighbors_interaction_proportion_threshold : 0.05\n",
      "max_item_neighborhood_size       : 64\n",
      ", Class                            : ItemSimilarityRecommender\n",
      "\n",
      "Schema\n",
      "------\n",
      "User ID                          : user_id\n",
      "Item ID                          : business_id\n",
      "Target                           : stars\n",
      "Additional observation features  : 0\n",
      "User side features               : []\n",
      "Item side features               : []\n",
      "\n",
      "Statistics\n",
      "----------\n",
      "Number of observations           : 160000\n",
      "Number of users                  : 97601\n",
      "Number of items                  : 20771\n",
      "\n",
      "Training summary\n",
      "----------------\n",
      "Training time                    : 20.1778\n",
      "\n",
      "Model Parameters\n",
      "----------------\n",
      "Model class                      : ItemSimilarityRecommender\n",
      "threshold                        : 0.001\n",
      "similarity_type                  : pearson\n",
      "training_method                  : auto\n",
      "\n",
      "Other Settings\n",
      "--------------\n",
      "degree_approximation_threshold   : 4096\n",
      "sparse_density_estimation_sample_size : 4096\n",
      "max_data_passes                  : 4096\n",
      "target_memory_usage              : 8589934592\n",
      "seed_item_set_size               : 50\n",
      "nearest_neighbors_interaction_proportion_threshold : 0.05\n",
      "max_item_neighborhood_size       : 64\n",
      ", Class                            : ItemSimilarityRecommender\n",
      "\n",
      "Schema\n",
      "------\n",
      "User ID                          : user_id\n",
      "Item ID                          : business_id\n",
      "Target                           : stars\n",
      "Additional observation features  : 0\n",
      "User side features               : []\n",
      "Item side features               : []\n",
      "\n",
      "Statistics\n",
      "----------\n",
      "Number of observations           : 160000\n",
      "Number of users                  : 98375\n",
      "Number of items                  : 20128\n",
      "\n",
      "Training summary\n",
      "----------------\n",
      "Training time                    : 17.5466\n",
      "\n",
      "Model Parameters\n",
      "----------------\n",
      "Model class                      : ItemSimilarityRecommender\n",
      "threshold                        : 0.001\n",
      "similarity_type                  : pearson\n",
      "training_method                  : auto\n",
      "\n",
      "Other Settings\n",
      "--------------\n",
      "degree_approximation_threshold   : 4096\n",
      "sparse_density_estimation_sample_size : 4096\n",
      "max_data_passes                  : 4096\n",
      "target_memory_usage              : 8589934592\n",
      "seed_item_set_size               : 50\n",
      "nearest_neighbors_interaction_proportion_threshold : 0.05\n",
      "max_item_neighborhood_size       : 64\n",
      ", Class                            : ItemSimilarityRecommender\n",
      "\n",
      "Schema\n",
      "------\n",
      "User ID                          : user_id\n",
      "Item ID                          : business_id\n",
      "Target                           : stars\n",
      "Additional observation features  : 0\n",
      "User side features               : []\n",
      "Item side features               : []\n",
      "\n",
      "Statistics\n",
      "----------\n",
      "Number of observations           : 160000\n",
      "Number of users                  : 93578\n",
      "Number of items                  : 22854\n",
      "\n",
      "Training summary\n",
      "----------------\n",
      "Training time                    : 37.2345\n",
      "\n",
      "Model Parameters\n",
      "----------------\n",
      "Model class                      : ItemSimilarityRecommender\n",
      "threshold                        : 0.001\n",
      "similarity_type                  : pearson\n",
      "training_method                  : auto\n",
      "\n",
      "Other Settings\n",
      "--------------\n",
      "degree_approximation_threshold   : 4096\n",
      "sparse_density_estimation_sample_size : 4096\n",
      "max_data_passes                  : 4096\n",
      "target_memory_usage              : 8589934592\n",
      "seed_item_set_size               : 50\n",
      "nearest_neighbors_interaction_proportion_threshold : 0.05\n",
      "max_item_neighborhood_size       : 64\n",
      "]), ('summary', Columns:\n",
      "\titem_data\tfloat\n",
      "\titem_id\tstr\n",
      "\tnearest_items\tfloat\n",
      "\tonly_top_k\tint\n",
      "\tsimilarity_type\tstr\n",
      "\ttarget\tstr\n",
      "\ttarget_memory_usage\tint\n",
      "\tthreshold\tfloat\n",
      "\tuser_data\tfloat\n",
      "\tuser_id\tstr\n",
      "\tverbose\tint\n",
      "\ttraining_precision@5\tfloat\n",
      "\ttraining_recall@5\tfloat\n",
      "\ttraining_rmse\tfloat\n",
      "\tvalidation_precision@5\tfloat\n",
      "\tvalidation_recall@5\tfloat\n",
      "\tvalidation_rmse\tfloat\n",
      "\tfold_id\tint\n",
      "\tmodel_id\tint\n",
      "\n",
      "Rows: 5\n",
      "\n",
      "Data:\n",
      "+-----------+-------------+---------------+------------+-----------------+--------+\n",
      "| item_data |   item_id   | nearest_items | only_top_k | similarity_type | target |\n",
      "+-----------+-------------+---------------+------------+-----------------+--------+\n",
      "|    None   | business_id |      None     |     64     |     pearson     | stars  |\n",
      "|    None   | business_id |      None     |     64     |     pearson     | stars  |\n",
      "|    None   | business_id |      None     |     64     |     pearson     | stars  |\n",
      "|    None   | business_id |      None     |     64     |     pearson     | stars  |\n",
      "|    None   | business_id |      None     |     64     |     pearson     | stars  |\n",
      "+-----------+-------------+---------------+------------+-----------------+--------+\n",
      "+---------------------+-----------+-----------+---------+---------+\n",
      "| target_memory_usage | threshold | user_data | user_id | verbose |\n",
      "+---------------------+-----------+-----------+---------+---------+\n",
      "|      8589934592     |   0.001   |    None   | user_id |    1    |\n",
      "|      8589934592     |   0.001   |    None   | user_id |    1    |\n",
      "|      8589934592     |   0.001   |    None   | user_id |    1    |\n",
      "|      8589934592     |   0.001   |    None   | user_id |    1    |\n",
      "|      8589934592     |   0.001   |    None   | user_id |    1    |\n",
      "+---------------------+-----------+-----------+---------+---------+\n",
      "+----------------------+-------------------+---------------+------------------------+\n",
      "| training_precision@5 | training_recall@5 | training_rmse | validation_precision@5 |\n",
      "+----------------------+-------------------+---------------+------------------------+\n",
      "|  3.04918332707e-05   | 0.000113792177784 |      None     |          0.0           |\n",
      "|  3.65393203686e-05   | 0.000162396979416 |      None     |          0.0           |\n",
      "|  3.27865493181e-05   | 0.000120698589464 |      None     |          0.0           |\n",
      "|  9.55527318933e-05   | 0.000433684804982 |      None     |   6.77598590595e-06    |\n",
      "|  7.48039069012e-05   | 0.000288684228704 |      None     |   5.97318041991e-06    |\n",
      "+----------------------+-------------------+---------------+------------------------+\n",
      "+---------------------+-----------------+---------+----------+\n",
      "| validation_recall@5 | validation_rmse | fold_id | model_id |\n",
      "+---------------------+-----------------+---------+----------+\n",
      "|         0.0         |  3.81623452273  |    1    |    1     |\n",
      "|         0.0         |  3.80292340556  |    0    |    0     |\n",
      "|         0.0         |  3.82945581948  |    3    |    3     |\n",
      "|  3.38799295297e-05  |  3.78904980185  |    2    |    2     |\n",
      "|  2.98659020996e-05  |  3.91304583712  |    4    |    4     |\n",
      "+---------------------+-----------------+---------+----------+\n",
      "[5 rows x 19 columns]\n",
      ")])\n"
     ]
    }
   ],
   "source": [
    "folds = gl.cross_validation.KFold(gl_sframe, 5)\n",
    "params = dict(user_id='user_id',\n",
    "                                                        item_id='business_id',\n",
    "                                                        target='stars',\n",
    "                                                        user_data=None,\n",
    "                                                        item_data=None,\n",
    "                                                        nearest_items=None,\n",
    "                                                        similarity_type='pearson',\n",
    "                                                        threshold=0.001,\n",
    "                                                        only_top_k=64,\n",
    "                                                        verbose=True,\n",
    "                                                        target_memory_usage=8589934592)\n",
    "job = gl.cross_validation.cross_val_score(folds,\n",
    "                                              gl.recommender.item_similarity_recommender.create,\n",
    "                                              params)\n",
    "print job.get_results()"
   ]
  },
  {
   "cell_type": "code",
   "execution_count": 20,
   "metadata": {
    "collapsed": false
   },
   "outputs": [
    {
     "data": {
      "text/html": [
       "<pre>recommendations finished on 1000/116127 queries. users per second: 1724.01</pre>"
      ],
      "text/plain": [
       "recommendations finished on 1000/116127 queries. users per second: 1724.01"
      ]
     },
     "metadata": {},
     "output_type": "display_data"
    },
    {
     "data": {
      "text/html": [
       "<pre>recommendations finished on 2000/116127 queries. users per second: 1918.27</pre>"
      ],
      "text/plain": [
       "recommendations finished on 2000/116127 queries. users per second: 1918.27"
      ]
     },
     "metadata": {},
     "output_type": "display_data"
    },
    {
     "data": {
      "text/html": [
       "<pre>recommendations finished on 3000/116127 queries. users per second: 1856.8</pre>"
      ],
      "text/plain": [
       "recommendations finished on 3000/116127 queries. users per second: 1856.8"
      ]
     },
     "metadata": {},
     "output_type": "display_data"
    },
    {
     "data": {
      "text/html": [
       "<pre>recommendations finished on 4000/116127 queries. users per second: 1911.32</pre>"
      ],
      "text/plain": [
       "recommendations finished on 4000/116127 queries. users per second: 1911.32"
      ]
     },
     "metadata": {},
     "output_type": "display_data"
    },
    {
     "data": {
      "text/html": [
       "<pre>recommendations finished on 5000/116127 queries. users per second: 1995.74</pre>"
      ],
      "text/plain": [
       "recommendations finished on 5000/116127 queries. users per second: 1995.74"
      ]
     },
     "metadata": {},
     "output_type": "display_data"
    },
    {
     "data": {
      "text/html": [
       "<pre>recommendations finished on 6000/116127 queries. users per second: 2071.1</pre>"
      ],
      "text/plain": [
       "recommendations finished on 6000/116127 queries. users per second: 2071.1"
      ]
     },
     "metadata": {},
     "output_type": "display_data"
    },
    {
     "data": {
      "text/html": [
       "<pre>recommendations finished on 7000/116127 queries. users per second: 2005.76</pre>"
      ],
      "text/plain": [
       "recommendations finished on 7000/116127 queries. users per second: 2005.76"
      ]
     },
     "metadata": {},
     "output_type": "display_data"
    },
    {
     "data": {
      "text/html": [
       "<pre>recommendations finished on 8000/116127 queries. users per second: 1962.96</pre>"
      ],
      "text/plain": [
       "recommendations finished on 8000/116127 queries. users per second: 1962.96"
      ]
     },
     "metadata": {},
     "output_type": "display_data"
    },
    {
     "data": {
      "text/html": [
       "<pre>recommendations finished on 9000/116127 queries. users per second: 1938.63</pre>"
      ],
      "text/plain": [
       "recommendations finished on 9000/116127 queries. users per second: 1938.63"
      ]
     },
     "metadata": {},
     "output_type": "display_data"
    },
    {
     "data": {
      "text/html": [
       "<pre>recommendations finished on 10000/116127 queries. users per second: 1939.78</pre>"
      ],
      "text/plain": [
       "recommendations finished on 10000/116127 queries. users per second: 1939.78"
      ]
     },
     "metadata": {},
     "output_type": "display_data"
    },
    {
     "data": {
      "text/html": [
       "<pre>recommendations finished on 11000/116127 queries. users per second: 1964.98</pre>"
      ],
      "text/plain": [
       "recommendations finished on 11000/116127 queries. users per second: 1964.98"
      ]
     },
     "metadata": {},
     "output_type": "display_data"
    },
    {
     "data": {
      "text/html": [
       "<pre>recommendations finished on 12000/116127 queries. users per second: 1990.37</pre>"
      ],
      "text/plain": [
       "recommendations finished on 12000/116127 queries. users per second: 1990.37"
      ]
     },
     "metadata": {},
     "output_type": "display_data"
    },
    {
     "data": {
      "text/html": [
       "<pre>recommendations finished on 13000/116127 queries. users per second: 1970.91</pre>"
      ],
      "text/plain": [
       "recommendations finished on 13000/116127 queries. users per second: 1970.91"
      ]
     },
     "metadata": {},
     "output_type": "display_data"
    },
    {
     "data": {
      "text/html": [
       "<pre>recommendations finished on 14000/116127 queries. users per second: 1989.78</pre>"
      ],
      "text/plain": [
       "recommendations finished on 14000/116127 queries. users per second: 1989.78"
      ]
     },
     "metadata": {},
     "output_type": "display_data"
    },
    {
     "data": {
      "text/html": [
       "<pre>recommendations finished on 15000/116127 queries. users per second: 1999.66</pre>"
      ],
      "text/plain": [
       "recommendations finished on 15000/116127 queries. users per second: 1999.66"
      ]
     },
     "metadata": {},
     "output_type": "display_data"
    },
    {
     "data": {
      "text/html": [
       "<pre>recommendations finished on 16000/116127 queries. users per second: 2033.07</pre>"
      ],
      "text/plain": [
       "recommendations finished on 16000/116127 queries. users per second: 2033.07"
      ]
     },
     "metadata": {},
     "output_type": "display_data"
    },
    {
     "data": {
      "text/html": [
       "<pre>recommendations finished on 17000/116127 queries. users per second: 2030.94</pre>"
      ],
      "text/plain": [
       "recommendations finished on 17000/116127 queries. users per second: 2030.94"
      ]
     },
     "metadata": {},
     "output_type": "display_data"
    },
    {
     "data": {
      "text/html": [
       "<pre>recommendations finished on 18000/116127 queries. users per second: 1957.74</pre>"
      ],
      "text/plain": [
       "recommendations finished on 18000/116127 queries. users per second: 1957.74"
      ]
     },
     "metadata": {},
     "output_type": "display_data"
    },
    {
     "data": {
      "text/html": [
       "<pre>recommendations finished on 19000/116127 queries. users per second: 1963.21</pre>"
      ],
      "text/plain": [
       "recommendations finished on 19000/116127 queries. users per second: 1963.21"
      ]
     },
     "metadata": {},
     "output_type": "display_data"
    },
    {
     "data": {
      "text/html": [
       "<pre>recommendations finished on 20000/116127 queries. users per second: 1937.22</pre>"
      ],
      "text/plain": [
       "recommendations finished on 20000/116127 queries. users per second: 1937.22"
      ]
     },
     "metadata": {},
     "output_type": "display_data"
    },
    {
     "data": {
      "text/html": [
       "<pre>recommendations finished on 21000/116127 queries. users per second: 1931.31</pre>"
      ],
      "text/plain": [
       "recommendations finished on 21000/116127 queries. users per second: 1931.31"
      ]
     },
     "metadata": {},
     "output_type": "display_data"
    },
    {
     "data": {
      "text/html": [
       "<pre>recommendations finished on 22000/116127 queries. users per second: 1934.96</pre>"
      ],
      "text/plain": [
       "recommendations finished on 22000/116127 queries. users per second: 1934.96"
      ]
     },
     "metadata": {},
     "output_type": "display_data"
    },
    {
     "data": {
      "text/html": [
       "<pre>recommendations finished on 23000/116127 queries. users per second: 1956.85</pre>"
      ],
      "text/plain": [
       "recommendations finished on 23000/116127 queries. users per second: 1956.85"
      ]
     },
     "metadata": {},
     "output_type": "display_data"
    },
    {
     "data": {
      "text/html": [
       "<pre>recommendations finished on 24000/116127 queries. users per second: 1958.18</pre>"
      ],
      "text/plain": [
       "recommendations finished on 24000/116127 queries. users per second: 1958.18"
      ]
     },
     "metadata": {},
     "output_type": "display_data"
    },
    {
     "data": {
      "text/html": [
       "<pre>recommendations finished on 25000/116127 queries. users per second: 1971.29</pre>"
      ],
      "text/plain": [
       "recommendations finished on 25000/116127 queries. users per second: 1971.29"
      ]
     },
     "metadata": {},
     "output_type": "display_data"
    },
    {
     "data": {
      "text/html": [
       "<pre>recommendations finished on 26000/116127 queries. users per second: 1958.61</pre>"
      ],
      "text/plain": [
       "recommendations finished on 26000/116127 queries. users per second: 1958.61"
      ]
     },
     "metadata": {},
     "output_type": "display_data"
    },
    {
     "data": {
      "text/html": [
       "<pre>recommendations finished on 27000/116127 queries. users per second: 1968.99</pre>"
      ],
      "text/plain": [
       "recommendations finished on 27000/116127 queries. users per second: 1968.99"
      ]
     },
     "metadata": {},
     "output_type": "display_data"
    },
    {
     "data": {
      "text/html": [
       "<pre>recommendations finished on 28000/116127 queries. users per second: 1983.28</pre>"
      ],
      "text/plain": [
       "recommendations finished on 28000/116127 queries. users per second: 1983.28"
      ]
     },
     "metadata": {},
     "output_type": "display_data"
    },
    {
     "data": {
      "text/html": [
       "<pre>recommendations finished on 29000/116127 queries. users per second: 2003.33</pre>"
      ],
      "text/plain": [
       "recommendations finished on 29000/116127 queries. users per second: 2003.33"
      ]
     },
     "metadata": {},
     "output_type": "display_data"
    },
    {
     "data": {
      "text/html": [
       "<pre>recommendations finished on 30000/116127 queries. users per second: 2011.65</pre>"
      ],
      "text/plain": [
       "recommendations finished on 30000/116127 queries. users per second: 2011.65"
      ]
     },
     "metadata": {},
     "output_type": "display_data"
    },
    {
     "data": {
      "text/html": [
       "<pre>recommendations finished on 31000/116127 queries. users per second: 2013.83</pre>"
      ],
      "text/plain": [
       "recommendations finished on 31000/116127 queries. users per second: 2013.83"
      ]
     },
     "metadata": {},
     "output_type": "display_data"
    },
    {
     "data": {
      "text/html": [
       "<pre>recommendations finished on 32000/116127 queries. users per second: 2027.92</pre>"
      ],
      "text/plain": [
       "recommendations finished on 32000/116127 queries. users per second: 2027.92"
      ]
     },
     "metadata": {},
     "output_type": "display_data"
    },
    {
     "data": {
      "text/html": [
       "<pre>recommendations finished on 33000/116127 queries. users per second: 2038.72</pre>"
      ],
      "text/plain": [
       "recommendations finished on 33000/116127 queries. users per second: 2038.72"
      ]
     },
     "metadata": {},
     "output_type": "display_data"
    },
    {
     "data": {
      "text/html": [
       "<pre>recommendations finished on 34000/116127 queries. users per second: 2040.52</pre>"
      ],
      "text/plain": [
       "recommendations finished on 34000/116127 queries. users per second: 2040.52"
      ]
     },
     "metadata": {},
     "output_type": "display_data"
    },
    {
     "data": {
      "text/html": [
       "<pre>recommendations finished on 35000/116127 queries. users per second: 2032.06</pre>"
      ],
      "text/plain": [
       "recommendations finished on 35000/116127 queries. users per second: 2032.06"
      ]
     },
     "metadata": {},
     "output_type": "display_data"
    },
    {
     "data": {
      "text/html": [
       "<pre>recommendations finished on 36000/116127 queries. users per second: 1983.53</pre>"
      ],
      "text/plain": [
       "recommendations finished on 36000/116127 queries. users per second: 1983.53"
      ]
     },
     "metadata": {},
     "output_type": "display_data"
    },
    {
     "data": {
      "text/html": [
       "<pre>recommendations finished on 37000/116127 queries. users per second: 1952.71</pre>"
      ],
      "text/plain": [
       "recommendations finished on 37000/116127 queries. users per second: 1952.71"
      ]
     },
     "metadata": {},
     "output_type": "display_data"
    },
    {
     "data": {
      "text/html": [
       "<pre>recommendations finished on 38000/116127 queries. users per second: 1923.88</pre>"
      ],
      "text/plain": [
       "recommendations finished on 38000/116127 queries. users per second: 1923.88"
      ]
     },
     "metadata": {},
     "output_type": "display_data"
    },
    {
     "data": {
      "text/html": [
       "<pre>recommendations finished on 39000/116127 queries. users per second: 1912.88</pre>"
      ],
      "text/plain": [
       "recommendations finished on 39000/116127 queries. users per second: 1912.88"
      ]
     },
     "metadata": {},
     "output_type": "display_data"
    },
    {
     "data": {
      "text/html": [
       "<pre>recommendations finished on 40000/116127 queries. users per second: 1920.86</pre>"
      ],
      "text/plain": [
       "recommendations finished on 40000/116127 queries. users per second: 1920.86"
      ]
     },
     "metadata": {},
     "output_type": "display_data"
    },
    {
     "data": {
      "text/html": [
       "<pre>recommendations finished on 41000/116127 queries. users per second: 1920.92</pre>"
      ],
      "text/plain": [
       "recommendations finished on 41000/116127 queries. users per second: 1920.92"
      ]
     },
     "metadata": {},
     "output_type": "display_data"
    },
    {
     "data": {
      "text/html": [
       "<pre>recommendations finished on 42000/116127 queries. users per second: 1930.12</pre>"
      ],
      "text/plain": [
       "recommendations finished on 42000/116127 queries. users per second: 1930.12"
      ]
     },
     "metadata": {},
     "output_type": "display_data"
    },
    {
     "data": {
      "text/html": [
       "<pre>recommendations finished on 43000/116127 queries. users per second: 1921.83</pre>"
      ],
      "text/plain": [
       "recommendations finished on 43000/116127 queries. users per second: 1921.83"
      ]
     },
     "metadata": {},
     "output_type": "display_data"
    },
    {
     "data": {
      "text/html": [
       "<pre>recommendations finished on 44000/116127 queries. users per second: 1929.39</pre>"
      ],
      "text/plain": [
       "recommendations finished on 44000/116127 queries. users per second: 1929.39"
      ]
     },
     "metadata": {},
     "output_type": "display_data"
    },
    {
     "data": {
      "text/html": [
       "<pre>recommendations finished on 45000/116127 queries. users per second: 1932.36</pre>"
      ],
      "text/plain": [
       "recommendations finished on 45000/116127 queries. users per second: 1932.36"
      ]
     },
     "metadata": {},
     "output_type": "display_data"
    },
    {
     "data": {
      "text/html": [
       "<pre>recommendations finished on 46000/116127 queries. users per second: 1942.89</pre>"
      ],
      "text/plain": [
       "recommendations finished on 46000/116127 queries. users per second: 1942.89"
      ]
     },
     "metadata": {},
     "output_type": "display_data"
    },
    {
     "data": {
      "text/html": [
       "<pre>recommendations finished on 47000/116127 queries. users per second: 1944.61</pre>"
      ],
      "text/plain": [
       "recommendations finished on 47000/116127 queries. users per second: 1944.61"
      ]
     },
     "metadata": {},
     "output_type": "display_data"
    },
    {
     "data": {
      "text/html": [
       "<pre>recommendations finished on 48000/116127 queries. users per second: 1953.56</pre>"
      ],
      "text/plain": [
       "recommendations finished on 48000/116127 queries. users per second: 1953.56"
      ]
     },
     "metadata": {},
     "output_type": "display_data"
    },
    {
     "data": {
      "text/html": [
       "<pre>recommendations finished on 49000/116127 queries. users per second: 1958.08</pre>"
      ],
      "text/plain": [
       "recommendations finished on 49000/116127 queries. users per second: 1958.08"
      ]
     },
     "metadata": {},
     "output_type": "display_data"
    },
    {
     "data": {
      "text/html": [
       "<pre>recommendations finished on 50000/116127 queries. users per second: 1963.27</pre>"
      ],
      "text/plain": [
       "recommendations finished on 50000/116127 queries. users per second: 1963.27"
      ]
     },
     "metadata": {},
     "output_type": "display_data"
    },
    {
     "data": {
      "text/html": [
       "<pre>recommendations finished on 51000/116127 queries. users per second: 1939.39</pre>"
      ],
      "text/plain": [
       "recommendations finished on 51000/116127 queries. users per second: 1939.39"
      ]
     },
     "metadata": {},
     "output_type": "display_data"
    },
    {
     "data": {
      "text/html": [
       "<pre>recommendations finished on 52000/116127 queries. users per second: 1909.85</pre>"
      ],
      "text/plain": [
       "recommendations finished on 52000/116127 queries. users per second: 1909.85"
      ]
     },
     "metadata": {},
     "output_type": "display_data"
    },
    {
     "data": {
      "text/html": [
       "<pre>recommendations finished on 53000/116127 queries. users per second: 1909.04</pre>"
      ],
      "text/plain": [
       "recommendations finished on 53000/116127 queries. users per second: 1909.04"
      ]
     },
     "metadata": {},
     "output_type": "display_data"
    },
    {
     "data": {
      "text/html": [
       "<pre>recommendations finished on 54000/116127 queries. users per second: 1869.42</pre>"
      ],
      "text/plain": [
       "recommendations finished on 54000/116127 queries. users per second: 1869.42"
      ]
     },
     "metadata": {},
     "output_type": "display_data"
    },
    {
     "data": {
      "text/html": [
       "<pre>recommendations finished on 55000/116127 queries. users per second: 1849.24</pre>"
      ],
      "text/plain": [
       "recommendations finished on 55000/116127 queries. users per second: 1849.24"
      ]
     },
     "metadata": {},
     "output_type": "display_data"
    },
    {
     "data": {
      "text/html": [
       "<pre>recommendations finished on 56000/116127 queries. users per second: 1843.21</pre>"
      ],
      "text/plain": [
       "recommendations finished on 56000/116127 queries. users per second: 1843.21"
      ]
     },
     "metadata": {},
     "output_type": "display_data"
    },
    {
     "data": {
      "text/html": [
       "<pre>recommendations finished on 57000/116127 queries. users per second: 1848.16</pre>"
      ],
      "text/plain": [
       "recommendations finished on 57000/116127 queries. users per second: 1848.16"
      ]
     },
     "metadata": {},
     "output_type": "display_data"
    },
    {
     "data": {
      "text/html": [
       "<pre>recommendations finished on 58000/116127 queries. users per second: 1852.35</pre>"
      ],
      "text/plain": [
       "recommendations finished on 58000/116127 queries. users per second: 1852.35"
      ]
     },
     "metadata": {},
     "output_type": "display_data"
    },
    {
     "data": {
      "text/html": [
       "<pre>recommendations finished on 59000/116127 queries. users per second: 1852.97</pre>"
      ],
      "text/plain": [
       "recommendations finished on 59000/116127 queries. users per second: 1852.97"
      ]
     },
     "metadata": {},
     "output_type": "display_data"
    },
    {
     "data": {
      "text/html": [
       "<pre>recommendations finished on 60000/116127 queries. users per second: 1855.46</pre>"
      ],
      "text/plain": [
       "recommendations finished on 60000/116127 queries. users per second: 1855.46"
      ]
     },
     "metadata": {},
     "output_type": "display_data"
    },
    {
     "data": {
      "text/html": [
       "<pre>recommendations finished on 61000/116127 queries. users per second: 1856.27</pre>"
      ],
      "text/plain": [
       "recommendations finished on 61000/116127 queries. users per second: 1856.27"
      ]
     },
     "metadata": {},
     "output_type": "display_data"
    },
    {
     "data": {
      "text/html": [
       "<pre>recommendations finished on 62000/116127 queries. users per second: 1854.03</pre>"
      ],
      "text/plain": [
       "recommendations finished on 62000/116127 queries. users per second: 1854.03"
      ]
     },
     "metadata": {},
     "output_type": "display_data"
    },
    {
     "data": {
      "text/html": [
       "<pre>recommendations finished on 63000/116127 queries. users per second: 1857.43</pre>"
      ],
      "text/plain": [
       "recommendations finished on 63000/116127 queries. users per second: 1857.43"
      ]
     },
     "metadata": {},
     "output_type": "display_data"
    },
    {
     "data": {
      "text/html": [
       "<pre>recommendations finished on 64000/116127 queries. users per second: 1862.38</pre>"
      ],
      "text/plain": [
       "recommendations finished on 64000/116127 queries. users per second: 1862.38"
      ]
     },
     "metadata": {},
     "output_type": "display_data"
    },
    {
     "data": {
      "text/html": [
       "<pre>recommendations finished on 65000/116127 queries. users per second: 1866.02</pre>"
      ],
      "text/plain": [
       "recommendations finished on 65000/116127 queries. users per second: 1866.02"
      ]
     },
     "metadata": {},
     "output_type": "display_data"
    },
    {
     "data": {
      "text/html": [
       "<pre>recommendations finished on 66000/116127 queries. users per second: 1866.88</pre>"
      ],
      "text/plain": [
       "recommendations finished on 66000/116127 queries. users per second: 1866.88"
      ]
     },
     "metadata": {},
     "output_type": "display_data"
    },
    {
     "data": {
      "text/html": [
       "<pre>recommendations finished on 67000/116127 queries. users per second: 1875.15</pre>"
      ],
      "text/plain": [
       "recommendations finished on 67000/116127 queries. users per second: 1875.15"
      ]
     },
     "metadata": {},
     "output_type": "display_data"
    },
    {
     "data": {
      "text/html": [
       "<pre>recommendations finished on 68000/116127 queries. users per second: 1871.94</pre>"
      ],
      "text/plain": [
       "recommendations finished on 68000/116127 queries. users per second: 1871.94"
      ]
     },
     "metadata": {},
     "output_type": "display_data"
    },
    {
     "data": {
      "text/html": [
       "<pre>recommendations finished on 69000/116127 queries. users per second: 1879.86</pre>"
      ],
      "text/plain": [
       "recommendations finished on 69000/116127 queries. users per second: 1879.86"
      ]
     },
     "metadata": {},
     "output_type": "display_data"
    },
    {
     "data": {
      "text/html": [
       "<pre>recommendations finished on 70000/116127 queries. users per second: 1885.62</pre>"
      ],
      "text/plain": [
       "recommendations finished on 70000/116127 queries. users per second: 1885.62"
      ]
     },
     "metadata": {},
     "output_type": "display_data"
    },
    {
     "data": {
      "text/html": [
       "<pre>recommendations finished on 71000/116127 queries. users per second: 1880.57</pre>"
      ],
      "text/plain": [
       "recommendations finished on 71000/116127 queries. users per second: 1880.57"
      ]
     },
     "metadata": {},
     "output_type": "display_data"
    },
    {
     "data": {
      "text/html": [
       "<pre>recommendations finished on 72000/116127 queries. users per second: 1883.75</pre>"
      ],
      "text/plain": [
       "recommendations finished on 72000/116127 queries. users per second: 1883.75"
      ]
     },
     "metadata": {},
     "output_type": "display_data"
    },
    {
     "data": {
      "text/html": [
       "<pre>recommendations finished on 73000/116127 queries. users per second: 1888.87</pre>"
      ],
      "text/plain": [
       "recommendations finished on 73000/116127 queries. users per second: 1888.87"
      ]
     },
     "metadata": {},
     "output_type": "display_data"
    },
    {
     "data": {
      "text/html": [
       "<pre>recommendations finished on 74000/116127 queries. users per second: 1890.3</pre>"
      ],
      "text/plain": [
       "recommendations finished on 74000/116127 queries. users per second: 1890.3"
      ]
     },
     "metadata": {},
     "output_type": "display_data"
    },
    {
     "data": {
      "text/html": [
       "<pre>recommendations finished on 75000/116127 queries. users per second: 1897.07</pre>"
      ],
      "text/plain": [
       "recommendations finished on 75000/116127 queries. users per second: 1897.07"
      ]
     },
     "metadata": {},
     "output_type": "display_data"
    },
    {
     "data": {
      "text/html": [
       "<pre>recommendations finished on 76000/116127 queries. users per second: 1904.7</pre>"
      ],
      "text/plain": [
       "recommendations finished on 76000/116127 queries. users per second: 1904.7"
      ]
     },
     "metadata": {},
     "output_type": "display_data"
    },
    {
     "data": {
      "text/html": [
       "<pre>recommendations finished on 77000/116127 queries. users per second: 1909.59</pre>"
      ],
      "text/plain": [
       "recommendations finished on 77000/116127 queries. users per second: 1909.59"
      ]
     },
     "metadata": {},
     "output_type": "display_data"
    },
    {
     "data": {
      "text/html": [
       "<pre>recommendations finished on 78000/116127 queries. users per second: 1917.68</pre>"
      ],
      "text/plain": [
       "recommendations finished on 78000/116127 queries. users per second: 1917.68"
      ]
     },
     "metadata": {},
     "output_type": "display_data"
    },
    {
     "data": {
      "text/html": [
       "<pre>recommendations finished on 79000/116127 queries. users per second: 1922.77</pre>"
      ],
      "text/plain": [
       "recommendations finished on 79000/116127 queries. users per second: 1922.77"
      ]
     },
     "metadata": {},
     "output_type": "display_data"
    },
    {
     "data": {
      "text/html": [
       "<pre>recommendations finished on 80000/116127 queries. users per second: 1926.2</pre>"
      ],
      "text/plain": [
       "recommendations finished on 80000/116127 queries. users per second: 1926.2"
      ]
     },
     "metadata": {},
     "output_type": "display_data"
    },
    {
     "data": {
      "text/html": [
       "<pre>recommendations finished on 81000/116127 queries. users per second: 1934.5</pre>"
      ],
      "text/plain": [
       "recommendations finished on 81000/116127 queries. users per second: 1934.5"
      ]
     },
     "metadata": {},
     "output_type": "display_data"
    },
    {
     "data": {
      "text/html": [
       "<pre>recommendations finished on 82000/116127 queries. users per second: 1938.7</pre>"
      ],
      "text/plain": [
       "recommendations finished on 82000/116127 queries. users per second: 1938.7"
      ]
     },
     "metadata": {},
     "output_type": "display_data"
    },
    {
     "data": {
      "text/html": [
       "<pre>recommendations finished on 83000/116127 queries. users per second: 1938.01</pre>"
      ],
      "text/plain": [
       "recommendations finished on 83000/116127 queries. users per second: 1938.01"
      ]
     },
     "metadata": {},
     "output_type": "display_data"
    },
    {
     "data": {
      "text/html": [
       "<pre>recommendations finished on 84000/116127 queries. users per second: 1937.31</pre>"
      ],
      "text/plain": [
       "recommendations finished on 84000/116127 queries. users per second: 1937.31"
      ]
     },
     "metadata": {},
     "output_type": "display_data"
    },
    {
     "data": {
      "text/html": [
       "<pre>recommendations finished on 85000/116127 queries. users per second: 1928.5</pre>"
      ],
      "text/plain": [
       "recommendations finished on 85000/116127 queries. users per second: 1928.5"
      ]
     },
     "metadata": {},
     "output_type": "display_data"
    },
    {
     "data": {
      "text/html": [
       "<pre>recommendations finished on 86000/116127 queries. users per second: 1930.32</pre>"
      ],
      "text/plain": [
       "recommendations finished on 86000/116127 queries. users per second: 1930.32"
      ]
     },
     "metadata": {},
     "output_type": "display_data"
    },
    {
     "data": {
      "text/html": [
       "<pre>recommendations finished on 87000/116127 queries. users per second: 1936.98</pre>"
      ],
      "text/plain": [
       "recommendations finished on 87000/116127 queries. users per second: 1936.98"
      ]
     },
     "metadata": {},
     "output_type": "display_data"
    },
    {
     "data": {
      "text/html": [
       "<pre>recommendations finished on 88000/116127 queries. users per second: 1940.35</pre>"
      ],
      "text/plain": [
       "recommendations finished on 88000/116127 queries. users per second: 1940.35"
      ]
     },
     "metadata": {},
     "output_type": "display_data"
    },
    {
     "data": {
      "text/html": [
       "<pre>recommendations finished on 89000/116127 queries. users per second: 1946.21</pre>"
      ],
      "text/plain": [
       "recommendations finished on 89000/116127 queries. users per second: 1946.21"
      ]
     },
     "metadata": {},
     "output_type": "display_data"
    },
    {
     "data": {
      "text/html": [
       "<pre>recommendations finished on 90000/116127 queries. users per second: 1947.33</pre>"
      ],
      "text/plain": [
       "recommendations finished on 90000/116127 queries. users per second: 1947.33"
      ]
     },
     "metadata": {},
     "output_type": "display_data"
    },
    {
     "data": {
      "text/html": [
       "<pre>recommendations finished on 91000/116127 queries. users per second: 1952.59</pre>"
      ],
      "text/plain": [
       "recommendations finished on 91000/116127 queries. users per second: 1952.59"
      ]
     },
     "metadata": {},
     "output_type": "display_data"
    },
    {
     "data": {
      "text/html": [
       "<pre>recommendations finished on 92000/116127 queries. users per second: 1937.38</pre>"
      ],
      "text/plain": [
       "recommendations finished on 92000/116127 queries. users per second: 1937.38"
      ]
     },
     "metadata": {},
     "output_type": "display_data"
    },
    {
     "data": {
      "text/html": [
       "<pre>recommendations finished on 93000/116127 queries. users per second: 1919.54</pre>"
      ],
      "text/plain": [
       "recommendations finished on 93000/116127 queries. users per second: 1919.54"
      ]
     },
     "metadata": {},
     "output_type": "display_data"
    },
    {
     "data": {
      "text/html": [
       "<pre>recommendations finished on 94000/116127 queries. users per second: 1902.34</pre>"
      ],
      "text/plain": [
       "recommendations finished on 94000/116127 queries. users per second: 1902.34"
      ]
     },
     "metadata": {},
     "output_type": "display_data"
    },
    {
     "data": {
      "text/html": [
       "<pre>recommendations finished on 95000/116127 queries. users per second: 1896.4</pre>"
      ],
      "text/plain": [
       "recommendations finished on 95000/116127 queries. users per second: 1896.4"
      ]
     },
     "metadata": {},
     "output_type": "display_data"
    },
    {
     "data": {
      "text/html": [
       "<pre>recommendations finished on 96000/116127 queries. users per second: 1895.12</pre>"
      ],
      "text/plain": [
       "recommendations finished on 96000/116127 queries. users per second: 1895.12"
      ]
     },
     "metadata": {},
     "output_type": "display_data"
    },
    {
     "data": {
      "text/html": [
       "<pre>recommendations finished on 97000/116127 queries. users per second: 1899.6</pre>"
      ],
      "text/plain": [
       "recommendations finished on 97000/116127 queries. users per second: 1899.6"
      ]
     },
     "metadata": {},
     "output_type": "display_data"
    },
    {
     "data": {
      "text/html": [
       "<pre>recommendations finished on 98000/116127 queries. users per second: 1899.21</pre>"
      ],
      "text/plain": [
       "recommendations finished on 98000/116127 queries. users per second: 1899.21"
      ]
     },
     "metadata": {},
     "output_type": "display_data"
    },
    {
     "data": {
      "text/html": [
       "<pre>recommendations finished on 99000/116127 queries. users per second: 1904.1</pre>"
      ],
      "text/plain": [
       "recommendations finished on 99000/116127 queries. users per second: 1904.1"
      ]
     },
     "metadata": {},
     "output_type": "display_data"
    },
    {
     "data": {
      "text/html": [
       "<pre>recommendations finished on 100000/116127 queries. users per second: 1905.51</pre>"
      ],
      "text/plain": [
       "recommendations finished on 100000/116127 queries. users per second: 1905.51"
      ]
     },
     "metadata": {},
     "output_type": "display_data"
    },
    {
     "data": {
      "text/html": [
       "<pre>recommendations finished on 101000/116127 queries. users per second: 1907.89</pre>"
      ],
      "text/plain": [
       "recommendations finished on 101000/116127 queries. users per second: 1907.89"
      ]
     },
     "metadata": {},
     "output_type": "display_data"
    },
    {
     "data": {
      "text/html": [
       "<pre>recommendations finished on 102000/116127 queries. users per second: 1896.23</pre>"
      ],
      "text/plain": [
       "recommendations finished on 102000/116127 queries. users per second: 1896.23"
      ]
     },
     "metadata": {},
     "output_type": "display_data"
    },
    {
     "data": {
      "text/html": [
       "<pre>recommendations finished on 103000/116127 queries. users per second: 1891.58</pre>"
      ],
      "text/plain": [
       "recommendations finished on 103000/116127 queries. users per second: 1891.58"
      ]
     },
     "metadata": {},
     "output_type": "display_data"
    },
    {
     "data": {
      "text/html": [
       "<pre>recommendations finished on 104000/116127 queries. users per second: 1890.8</pre>"
      ],
      "text/plain": [
       "recommendations finished on 104000/116127 queries. users per second: 1890.8"
      ]
     },
     "metadata": {},
     "output_type": "display_data"
    },
    {
     "data": {
      "text/html": [
       "<pre>recommendations finished on 105000/116127 queries. users per second: 1883.92</pre>"
      ],
      "text/plain": [
       "recommendations finished on 105000/116127 queries. users per second: 1883.92"
      ]
     },
     "metadata": {},
     "output_type": "display_data"
    },
    {
     "data": {
      "text/html": [
       "<pre>recommendations finished on 106000/116127 queries. users per second: 1886.58</pre>"
      ],
      "text/plain": [
       "recommendations finished on 106000/116127 queries. users per second: 1886.58"
      ]
     },
     "metadata": {},
     "output_type": "display_data"
    },
    {
     "data": {
      "text/html": [
       "<pre>recommendations finished on 107000/116127 queries. users per second: 1890.36</pre>"
      ],
      "text/plain": [
       "recommendations finished on 107000/116127 queries. users per second: 1890.36"
      ]
     },
     "metadata": {},
     "output_type": "display_data"
    },
    {
     "data": {
      "text/html": [
       "<pre>recommendations finished on 108000/116127 queries. users per second: 1873.85</pre>"
      ],
      "text/plain": [
       "recommendations finished on 108000/116127 queries. users per second: 1873.85"
      ]
     },
     "metadata": {},
     "output_type": "display_data"
    },
    {
     "data": {
      "text/html": [
       "<pre>recommendations finished on 109000/116127 queries. users per second: 1873.53</pre>"
      ],
      "text/plain": [
       "recommendations finished on 109000/116127 queries. users per second: 1873.53"
      ]
     },
     "metadata": {},
     "output_type": "display_data"
    },
    {
     "data": {
      "text/html": [
       "<pre>recommendations finished on 110000/116127 queries. users per second: 1869.28</pre>"
      ],
      "text/plain": [
       "recommendations finished on 110000/116127 queries. users per second: 1869.28"
      ]
     },
     "metadata": {},
     "output_type": "display_data"
    },
    {
     "data": {
      "text/html": [
       "<pre>recommendations finished on 111000/116127 queries. users per second: 1868.12</pre>"
      ],
      "text/plain": [
       "recommendations finished on 111000/116127 queries. users per second: 1868.12"
      ]
     },
     "metadata": {},
     "output_type": "display_data"
    },
    {
     "data": {
      "text/html": [
       "<pre>recommendations finished on 112000/116127 queries. users per second: 1869.06</pre>"
      ],
      "text/plain": [
       "recommendations finished on 112000/116127 queries. users per second: 1869.06"
      ]
     },
     "metadata": {},
     "output_type": "display_data"
    },
    {
     "data": {
      "text/html": [
       "<pre>recommendations finished on 113000/116127 queries. users per second: 1869.6</pre>"
      ],
      "text/plain": [
       "recommendations finished on 113000/116127 queries. users per second: 1869.6"
      ]
     },
     "metadata": {},
     "output_type": "display_data"
    },
    {
     "data": {
      "text/html": [
       "<pre>recommendations finished on 114000/116127 queries. users per second: 1859.52</pre>"
      ],
      "text/plain": [
       "recommendations finished on 114000/116127 queries. users per second: 1859.52"
      ]
     },
     "metadata": {},
     "output_type": "display_data"
    },
    {
     "data": {
      "text/html": [
       "<pre>recommendations finished on 115000/116127 queries. users per second: 1850.81</pre>"
      ],
      "text/plain": [
       "recommendations finished on 115000/116127 queries. users per second: 1850.81"
      ]
     },
     "metadata": {},
     "output_type": "display_data"
    },
    {
     "data": {
      "text/html": [
       "<pre>recommendations finished on 116000/116127 queries. users per second: 1845.23</pre>"
      ],
      "text/plain": [
       "recommendations finished on 116000/116127 queries. users per second: 1845.23"
      ]
     },
     "metadata": {},
     "output_type": "display_data"
    },
    {
     "data": {
      "text/html": [
       "<div style=\"max-height:1000px;max-width:1500px;overflow:auto;\"><table frame=\"box\" rules=\"cols\">\n",
       "    <tr>\n",
       "        <th style=\"padding-left: 1em; padding-right: 1em; text-align: center\">user_id</th>\n",
       "        <th style=\"padding-left: 1em; padding-right: 1em; text-align: center\">business_id</th>\n",
       "        <th style=\"padding-left: 1em; padding-right: 1em; text-align: center\">score</th>\n",
       "        <th style=\"padding-left: 1em; padding-right: 1em; text-align: center\">rank</th>\n",
       "    </tr>\n",
       "    <tr>\n",
       "        <td style=\"padding-left: 1em; padding-right: 1em; text-align: center; vertical-align: top\">KpkOkG6RIf4Ra25Lhhxf1A</td>\n",
       "        <td style=\"padding-left: 1em; padding-right: 1em; text-align: center; vertical-align: top\">78iZO7fwyQ_Bhq63p4uXxA</td>\n",
       "        <td style=\"padding-left: 1em; padding-right: 1em; text-align: center; vertical-align: top\">5.0</td>\n",
       "        <td style=\"padding-left: 1em; padding-right: 1em; text-align: center; vertical-align: top\">1</td>\n",
       "    </tr>\n",
       "    <tr>\n",
       "        <td style=\"padding-left: 1em; padding-right: 1em; text-align: center; vertical-align: top\">bQ7fQq1otn9hKX-gXRsrgA</td>\n",
       "        <td style=\"padding-left: 1em; padding-right: 1em; text-align: center; vertical-align: top\">78iZO7fwyQ_Bhq63p4uXxA</td>\n",
       "        <td style=\"padding-left: 1em; padding-right: 1em; text-align: center; vertical-align: top\">5.0</td>\n",
       "        <td style=\"padding-left: 1em; padding-right: 1em; text-align: center; vertical-align: top\">1</td>\n",
       "    </tr>\n",
       "    <tr>\n",
       "        <td style=\"padding-left: 1em; padding-right: 1em; text-align: center; vertical-align: top\">r1NUhdNmL6yU9Bn-Yx6FTw</td>\n",
       "        <td style=\"padding-left: 1em; padding-right: 1em; text-align: center; vertical-align: top\">78iZO7fwyQ_Bhq63p4uXxA</td>\n",
       "        <td style=\"padding-left: 1em; padding-right: 1em; text-align: center; vertical-align: top\">5.0</td>\n",
       "        <td style=\"padding-left: 1em; padding-right: 1em; text-align: center; vertical-align: top\">1</td>\n",
       "    </tr>\n",
       "    <tr>\n",
       "        <td style=\"padding-left: 1em; padding-right: 1em; text-align: center; vertical-align: top\">aW3ix1KNZAvoM8q-WghA3Q</td>\n",
       "        <td style=\"padding-left: 1em; padding-right: 1em; text-align: center; vertical-align: top\">2aFiy99vNLklCx3T_tGS9A</td>\n",
       "        <td style=\"padding-left: 1em; padding-right: 1em; text-align: center; vertical-align: top\">5.0</td>\n",
       "        <td style=\"padding-left: 1em; padding-right: 1em; text-align: center; vertical-align: top\">1</td>\n",
       "    </tr>\n",
       "    <tr>\n",
       "        <td style=\"padding-left: 1em; padding-right: 1em; text-align: center; vertical-align: top\">YOo-Cip8HqvKp_p9nEGphw</td>\n",
       "        <td style=\"padding-left: 1em; padding-right: 1em; text-align: center; vertical-align: top\">2aFiy99vNLklCx3T_tGS9A</td>\n",
       "        <td style=\"padding-left: 1em; padding-right: 1em; text-align: center; vertical-align: top\">5.0</td>\n",
       "        <td style=\"padding-left: 1em; padding-right: 1em; text-align: center; vertical-align: top\">1</td>\n",
       "    </tr>\n",
       "    <tr>\n",
       "        <td style=\"padding-left: 1em; padding-right: 1em; text-align: center; vertical-align: top\">bgl3j8yJcRO-00NkUYsXGQ</td>\n",
       "        <td style=\"padding-left: 1em; padding-right: 1em; text-align: center; vertical-align: top\">2aFiy99vNLklCx3T_tGS9A</td>\n",
       "        <td style=\"padding-left: 1em; padding-right: 1em; text-align: center; vertical-align: top\">5.0</td>\n",
       "        <td style=\"padding-left: 1em; padding-right: 1em; text-align: center; vertical-align: top\">1</td>\n",
       "    </tr>\n",
       "    <tr>\n",
       "        <td style=\"padding-left: 1em; padding-right: 1em; text-align: center; vertical-align: top\">CWKF9de-nskLYEqDDCfubg</td>\n",
       "        <td style=\"padding-left: 1em; padding-right: 1em; text-align: center; vertical-align: top\">2aFiy99vNLklCx3T_tGS9A</td>\n",
       "        <td style=\"padding-left: 1em; padding-right: 1em; text-align: center; vertical-align: top\">5.0</td>\n",
       "        <td style=\"padding-left: 1em; padding-right: 1em; text-align: center; vertical-align: top\">1</td>\n",
       "    </tr>\n",
       "    <tr>\n",
       "        <td style=\"padding-left: 1em; padding-right: 1em; text-align: center; vertical-align: top\">GJ7PTY7huYORFKKg3db3Gw</td>\n",
       "        <td style=\"padding-left: 1em; padding-right: 1em; text-align: center; vertical-align: top\">2aFiy99vNLklCx3T_tGS9A</td>\n",
       "        <td style=\"padding-left: 1em; padding-right: 1em; text-align: center; vertical-align: top\">5.0</td>\n",
       "        <td style=\"padding-left: 1em; padding-right: 1em; text-align: center; vertical-align: top\">1</td>\n",
       "    </tr>\n",
       "    <tr>\n",
       "        <td style=\"padding-left: 1em; padding-right: 1em; text-align: center; vertical-align: top\">rxqp9eXZj1jYTn0UIsm3Hg</td>\n",
       "        <td style=\"padding-left: 1em; padding-right: 1em; text-align: center; vertical-align: top\">2aFiy99vNLklCx3T_tGS9A</td>\n",
       "        <td style=\"padding-left: 1em; padding-right: 1em; text-align: center; vertical-align: top\">5.0</td>\n",
       "        <td style=\"padding-left: 1em; padding-right: 1em; text-align: center; vertical-align: top\">1</td>\n",
       "    </tr>\n",
       "    <tr>\n",
       "        <td style=\"padding-left: 1em; padding-right: 1em; text-align: center; vertical-align: top\">UU0nHQtHPMAfLidk8tOHTg</td>\n",
       "        <td style=\"padding-left: 1em; padding-right: 1em; text-align: center; vertical-align: top\">2aFiy99vNLklCx3T_tGS9A</td>\n",
       "        <td style=\"padding-left: 1em; padding-right: 1em; text-align: center; vertical-align: top\">5.0</td>\n",
       "        <td style=\"padding-left: 1em; padding-right: 1em; text-align: center; vertical-align: top\">1</td>\n",
       "    </tr>\n",
       "</table>\n",
       "[116127 rows x 4 columns]<br/>Note: Only the head of the SFrame is printed.<br/>You can use print_rows(num_rows=m, num_columns=n) to print more rows and columns.\n",
       "</div>"
      ],
      "text/plain": [
       "Columns:\n",
       "\tuser_id\tstr\n",
       "\tbusiness_id\tstr\n",
       "\tscore\tfloat\n",
       "\trank\tint\n",
       "\n",
       "Rows: 116127\n",
       "\n",
       "Data:\n",
       "+------------------------+------------------------+-------+------+\n",
       "|        user_id         |      business_id       | score | rank |\n",
       "+------------------------+------------------------+-------+------+\n",
       "| KpkOkG6RIf4Ra25Lhhxf1A | 78iZO7fwyQ_Bhq63p4uXxA |  5.0  |  1   |\n",
       "| bQ7fQq1otn9hKX-gXRsrgA | 78iZO7fwyQ_Bhq63p4uXxA |  5.0  |  1   |\n",
       "| r1NUhdNmL6yU9Bn-Yx6FTw | 78iZO7fwyQ_Bhq63p4uXxA |  5.0  |  1   |\n",
       "| aW3ix1KNZAvoM8q-WghA3Q | 2aFiy99vNLklCx3T_tGS9A |  5.0  |  1   |\n",
       "| YOo-Cip8HqvKp_p9nEGphw | 2aFiy99vNLklCx3T_tGS9A |  5.0  |  1   |\n",
       "| bgl3j8yJcRO-00NkUYsXGQ | 2aFiy99vNLklCx3T_tGS9A |  5.0  |  1   |\n",
       "| CWKF9de-nskLYEqDDCfubg | 2aFiy99vNLklCx3T_tGS9A |  5.0  |  1   |\n",
       "| GJ7PTY7huYORFKKg3db3Gw | 2aFiy99vNLklCx3T_tGS9A |  5.0  |  1   |\n",
       "| rxqp9eXZj1jYTn0UIsm3Hg | 2aFiy99vNLklCx3T_tGS9A |  5.0  |  1   |\n",
       "| UU0nHQtHPMAfLidk8tOHTg | 2aFiy99vNLklCx3T_tGS9A |  5.0  |  1   |\n",
       "+------------------------+------------------------+-------+------+\n",
       "[116127 rows x 4 columns]\n",
       "Note: Only the head of the SFrame is printed.\n",
       "You can use print_rows(num_rows=m, num_columns=n) to print more rows and columns."
      ]
     },
     "execution_count": 20,
     "metadata": {},
     "output_type": "execute_result"
    }
   ],
   "source": [
    "model_rec.recommend(users=None,k=1)"
   ]
  },
  {
   "cell_type": "code",
   "execution_count": 23,
   "metadata": {
    "collapsed": false
   },
   "outputs": [
    {
     "data": {
      "text/html": [
       "<div style=\"max-height:1000px;max-width:1500px;overflow:auto;\"><table frame=\"box\" rules=\"cols\">\n",
       "    <tr>\n",
       "        <th style=\"padding-left: 1em; padding-right: 1em; text-align: center\">user_id</th>\n",
       "        <th style=\"padding-left: 1em; padding-right: 1em; text-align: center\">business_id</th>\n",
       "        <th style=\"padding-left: 1em; padding-right: 1em; text-align: center\">score</th>\n",
       "        <th style=\"padding-left: 1em; padding-right: 1em; text-align: center\">rank</th>\n",
       "    </tr>\n",
       "    <tr>\n",
       "        <td style=\"padding-left: 1em; padding-right: 1em; text-align: center; vertical-align: top\">KpkOkG6RIf4Ra25Lhhxf1A</td>\n",
       "        <td style=\"padding-left: 1em; padding-right: 1em; text-align: center; vertical-align: top\">2iUGRHPUApKKJM8CBGqmNw</td>\n",
       "        <td style=\"padding-left: 1em; padding-right: 1em; text-align: center; vertical-align: top\">5.0</td>\n",
       "        <td style=\"padding-left: 1em; padding-right: 1em; text-align: center; vertical-align: top\">1</td>\n",
       "    </tr>\n",
       "    <tr>\n",
       "        <td style=\"padding-left: 1em; padding-right: 1em; text-align: center; vertical-align: top\">KpkOkG6RIf4Ra25Lhhxf1A</td>\n",
       "        <td style=\"padding-left: 1em; padding-right: 1em; text-align: center; vertical-align: top\">A-HeICDZo79ty0OaUSAJVw</td>\n",
       "        <td style=\"padding-left: 1em; padding-right: 1em; text-align: center; vertical-align: top\">5.0</td>\n",
       "        <td style=\"padding-left: 1em; padding-right: 1em; text-align: center; vertical-align: top\">2</td>\n",
       "    </tr>\n",
       "    <tr>\n",
       "        <td style=\"padding-left: 1em; padding-right: 1em; text-align: center; vertical-align: top\">KpkOkG6RIf4Ra25Lhhxf1A</td>\n",
       "        <td style=\"padding-left: 1em; padding-right: 1em; text-align: center; vertical-align: top\">2YcK8gUaY2VAvHUGE3NakQ</td>\n",
       "        <td style=\"padding-left: 1em; padding-right: 1em; text-align: center; vertical-align: top\">5.0</td>\n",
       "        <td style=\"padding-left: 1em; padding-right: 1em; text-align: center; vertical-align: top\">3</td>\n",
       "    </tr>\n",
       "    <tr>\n",
       "        <td style=\"padding-left: 1em; padding-right: 1em; text-align: center; vertical-align: top\">KpkOkG6RIf4Ra25Lhhxf1A</td>\n",
       "        <td style=\"padding-left: 1em; padding-right: 1em; text-align: center; vertical-align: top\">6Ivnwybl4sTvcwMtkkjrQQ</td>\n",
       "        <td style=\"padding-left: 1em; padding-right: 1em; text-align: center; vertical-align: top\">5.0</td>\n",
       "        <td style=\"padding-left: 1em; padding-right: 1em; text-align: center; vertical-align: top\">4</td>\n",
       "    </tr>\n",
       "    <tr>\n",
       "        <td style=\"padding-left: 1em; padding-right: 1em; text-align: center; vertical-align: top\">KpkOkG6RIf4Ra25Lhhxf1A</td>\n",
       "        <td style=\"padding-left: 1em; padding-right: 1em; text-align: center; vertical-align: top\">44d0NDLZiLTGmpBlNdhDaw</td>\n",
       "        <td style=\"padding-left: 1em; padding-right: 1em; text-align: center; vertical-align: top\">5.0</td>\n",
       "        <td style=\"padding-left: 1em; padding-right: 1em; text-align: center; vertical-align: top\">5</td>\n",
       "    </tr>\n",
       "    <tr>\n",
       "        <td style=\"padding-left: 1em; padding-right: 1em; text-align: center; vertical-align: top\">KpkOkG6RIf4Ra25Lhhxf1A</td>\n",
       "        <td style=\"padding-left: 1em; padding-right: 1em; text-align: center; vertical-align: top\">7vXXRslK05EyPoRVMqtzdA</td>\n",
       "        <td style=\"padding-left: 1em; padding-right: 1em; text-align: center; vertical-align: top\">5.0</td>\n",
       "        <td style=\"padding-left: 1em; padding-right: 1em; text-align: center; vertical-align: top\">6</td>\n",
       "    </tr>\n",
       "    <tr>\n",
       "        <td style=\"padding-left: 1em; padding-right: 1em; text-align: center; vertical-align: top\">KpkOkG6RIf4Ra25Lhhxf1A</td>\n",
       "        <td style=\"padding-left: 1em; padding-right: 1em; text-align: center; vertical-align: top\">0vytvfym7q8f85jeOvgr5Q</td>\n",
       "        <td style=\"padding-left: 1em; padding-right: 1em; text-align: center; vertical-align: top\">5.0</td>\n",
       "        <td style=\"padding-left: 1em; padding-right: 1em; text-align: center; vertical-align: top\">7</td>\n",
       "    </tr>\n",
       "    <tr>\n",
       "        <td style=\"padding-left: 1em; padding-right: 1em; text-align: center; vertical-align: top\">KpkOkG6RIf4Ra25Lhhxf1A</td>\n",
       "        <td style=\"padding-left: 1em; padding-right: 1em; text-align: center; vertical-align: top\">78iZO7fwyQ_Bhq63p4uXxA</td>\n",
       "        <td style=\"padding-left: 1em; padding-right: 1em; text-align: center; vertical-align: top\">5.0</td>\n",
       "        <td style=\"padding-left: 1em; padding-right: 1em; text-align: center; vertical-align: top\">8</td>\n",
       "    </tr>\n",
       "    <tr>\n",
       "        <td style=\"padding-left: 1em; padding-right: 1em; text-align: center; vertical-align: top\">bQ7fQq1otn9hKX-gXRsrgA</td>\n",
       "        <td style=\"padding-left: 1em; padding-right: 1em; text-align: center; vertical-align: top\">2iUGRHPUApKKJM8CBGqmNw</td>\n",
       "        <td style=\"padding-left: 1em; padding-right: 1em; text-align: center; vertical-align: top\">5.0</td>\n",
       "        <td style=\"padding-left: 1em; padding-right: 1em; text-align: center; vertical-align: top\">1</td>\n",
       "    </tr>\n",
       "    <tr>\n",
       "        <td style=\"padding-left: 1em; padding-right: 1em; text-align: center; vertical-align: top\">bQ7fQq1otn9hKX-gXRsrgA</td>\n",
       "        <td style=\"padding-left: 1em; padding-right: 1em; text-align: center; vertical-align: top\">A-HeICDZo79ty0OaUSAJVw</td>\n",
       "        <td style=\"padding-left: 1em; padding-right: 1em; text-align: center; vertical-align: top\">5.0</td>\n",
       "        <td style=\"padding-left: 1em; padding-right: 1em; text-align: center; vertical-align: top\">2</td>\n",
       "    </tr>\n",
       "</table>\n",
       "[40 rows x 4 columns]<br/>Note: Only the head of the SFrame is printed.<br/>You can use print_rows(num_rows=m, num_columns=n) to print more rows and columns.\n",
       "</div>"
      ],
      "text/plain": [
       "Columns:\n",
       "\tuser_id\tstr\n",
       "\tbusiness_id\tstr\n",
       "\tscore\tfloat\n",
       "\trank\tint\n",
       "\n",
       "Rows: 40\n",
       "\n",
       "Data:\n",
       "+------------------------+------------------------+-------+------+\n",
       "|        user_id         |      business_id       | score | rank |\n",
       "+------------------------+------------------------+-------+------+\n",
       "| KpkOkG6RIf4Ra25Lhhxf1A | 2iUGRHPUApKKJM8CBGqmNw |  5.0  |  1   |\n",
       "| KpkOkG6RIf4Ra25Lhhxf1A | A-HeICDZo79ty0OaUSAJVw |  5.0  |  2   |\n",
       "| KpkOkG6RIf4Ra25Lhhxf1A | 2YcK8gUaY2VAvHUGE3NakQ |  5.0  |  3   |\n",
       "| KpkOkG6RIf4Ra25Lhhxf1A | 6Ivnwybl4sTvcwMtkkjrQQ |  5.0  |  4   |\n",
       "| KpkOkG6RIf4Ra25Lhhxf1A | 44d0NDLZiLTGmpBlNdhDaw |  5.0  |  5   |\n",
       "| KpkOkG6RIf4Ra25Lhhxf1A | 7vXXRslK05EyPoRVMqtzdA |  5.0  |  6   |\n",
       "| KpkOkG6RIf4Ra25Lhhxf1A | 0vytvfym7q8f85jeOvgr5Q |  5.0  |  7   |\n",
       "| KpkOkG6RIf4Ra25Lhhxf1A | 78iZO7fwyQ_Bhq63p4uXxA |  5.0  |  8   |\n",
       "| bQ7fQq1otn9hKX-gXRsrgA | 2iUGRHPUApKKJM8CBGqmNw |  5.0  |  1   |\n",
       "| bQ7fQq1otn9hKX-gXRsrgA | A-HeICDZo79ty0OaUSAJVw |  5.0  |  2   |\n",
       "+------------------------+------------------------+-------+------+\n",
       "[40 rows x 4 columns]\n",
       "Note: Only the head of the SFrame is printed.\n",
       "You can use print_rows(num_rows=m, num_columns=n) to print more rows and columns."
      ]
     },
     "execution_count": 23,
     "metadata": {},
     "output_type": "execute_result"
    }
   ],
   "source": [
    "model_rec.recommend(users=gl_sframe['user_id'][0:5],k=8)"
   ]
  },
  {
   "cell_type": "code",
   "execution_count": null,
   "metadata": {
    "collapsed": true
   },
   "outputs": [],
   "source": []
  },
  {
   "cell_type": "code",
   "execution_count": null,
   "metadata": {
    "collapsed": true
   },
   "outputs": [],
   "source": []
  },
  {
   "cell_type": "code",
   "execution_count": null,
   "metadata": {
    "collapsed": true
   },
   "outputs": [],
   "source": []
  },
  {
   "cell_type": "code",
   "execution_count": null,
   "metadata": {
    "collapsed": true
   },
   "outputs": [],
   "source": []
  },
  {
   "cell_type": "code",
   "execution_count": null,
   "metadata": {
    "collapsed": true
   },
   "outputs": [],
   "source": []
  },
  {
   "cell_type": "code",
   "execution_count": null,
   "metadata": {
    "collapsed": true
   },
   "outputs": [],
   "source": []
  },
  {
   "cell_type": "code",
   "execution_count": null,
   "metadata": {
    "collapsed": true
   },
   "outputs": [],
   "source": []
  },
  {
   "cell_type": "code",
   "execution_count": null,
   "metadata": {
    "collapsed": true
   },
   "outputs": [],
   "source": []
  },
  {
   "cell_type": "code",
   "execution_count": null,
   "metadata": {
    "collapsed": true
   },
   "outputs": [],
   "source": []
  },
  {
   "cell_type": "code",
   "execution_count": null,
   "metadata": {
    "collapsed": true
   },
   "outputs": [],
   "source": []
  }
 ],
 "metadata": {
  "kernelspec": {
   "display_name": "Python [conda env:TravelTourPython2]",
   "language": "python",
   "name": "conda-env-TravelTourPython2-py"
  },
  "language_info": {
   "codemirror_mode": {
    "name": "ipython",
    "version": 2
   },
   "file_extension": ".py",
   "mimetype": "text/x-python",
   "name": "python",
   "nbconvert_exporter": "python",
   "pygments_lexer": "ipython2",
   "version": "2.7.13"
  }
 },
 "nbformat": 4,
 "nbformat_minor": 2
}
